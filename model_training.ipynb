{
 "metadata": {
  "language_info": {
   "codemirror_mode": {
    "name": "ipython",
    "version": 3
   },
   "file_extension": ".py",
   "mimetype": "text/x-python",
   "name": "python",
   "nbconvert_exporter": "python",
   "pygments_lexer": "ipython3",
   "version": "3.8.6-final"
  },
  "orig_nbformat": 2,
  "kernelspec": {
   "name": "python3",
   "display_name": "Python 3.8.6 64-bit",
   "metadata": {
    "interpreter": {
     "hash": "01cdcb0ce522b4f68cb2d06ea81fb1a2b154cfca27994b802c5828a18eed1070"
    }
   }
  }
 },
 "nbformat": 4,
 "nbformat_minor": 2,
 "cells": [
  {
   "cell_type": "code",
   "execution_count": 247,
   "metadata": {},
   "outputs": [],
   "source": [
    "import pandas as pd\n",
    "import numpy as np\n",
    "from sklearn.model_selection import train_test_split\n",
    "from sklearn.linear_model import LogisticRegression"
   ]
  },
  {
   "cell_type": "code",
   "execution_count": 248,
   "metadata": {},
   "outputs": [],
   "source": [
    "data=pd.read_csv('heart_failure_clinical_records_dataset.csv')\n",
    "data\n",
    "X=data[['ejection_fraction','serum_creatinine','serum_sodium','time','age','anaemia','high_blood_pressure']]\n",
    "y=data['DEATH_EVENT']\n",
    "X_all=data[['ejection_fraction','serum_creatinine','serum_sodium','time','age','anaemia','high_blood_pressure','creatinine_phosphokinase','platelets','diabetes','sex','smoking']]"
   ]
  },
  {
   "cell_type": "code",
   "execution_count": 249,
   "metadata": {},
   "outputs": [],
   "source": [
    "x_train,x_test,y_train,y_test=train_test_split(X,y,test_size=0.2)\n",
    "x_train_all,x_test_all,y_train_all,y_test_all=train_test_split(X_all,y,test_size=0.2)"
   ]
  },
  {
   "cell_type": "code",
   "execution_count": 250,
   "metadata": {},
   "outputs": [],
   "source": [
    "##----------------------------------- Logistic Regression---------------------------------------------------"
   ]
  },
  {
   "cell_type": "code",
   "execution_count": 251,
   "metadata": {},
   "outputs": [
    {
     "output_type": "execute_result",
     "data": {
      "text/plain": [
       "0.7666666666666667"
      ]
     },
     "metadata": {},
     "execution_count": 251
    }
   ],
   "source": [
    "logistic_model_all=LogisticRegression()\n",
    "logistic_model_all.fit(x_train_all,y_train_all)\n",
    "accuracy_all=logistic_model_all.score(x_test_all,y_test_all)\n",
    "accuracy_all"
   ]
  },
  {
   "cell_type": "code",
   "execution_count": 252,
   "metadata": {},
   "outputs": [],
   "source": [
    "# after feature selection or removing few features"
   ]
  },
  {
   "cell_type": "code",
   "execution_count": 253,
   "metadata": {},
   "outputs": [
    {
     "output_type": "execute_result",
     "data": {
      "text/plain": [
       "0.8166666666666667"
      ]
     },
     "metadata": {},
     "execution_count": 253
    }
   ],
   "source": [
    "logistic_model=LogisticRegression()\n",
    "logistic_model.fit(x_train,y_train)\n",
    "accuracy=logistic_model.score(x_test,y_test)\n",
    "accuracy"
   ]
  },
  {
   "cell_type": "code",
   "execution_count": 254,
   "metadata": {},
   "outputs": [],
   "source": [
    "## ---------------------------------Support Vector Machine--------------------------------------------------"
   ]
  },
  {
   "cell_type": "code",
   "execution_count": 255,
   "metadata": {},
   "outputs": [],
   "source": [
    "from sklearn.svm import SVC"
   ]
  },
  {
   "cell_type": "code",
   "execution_count": 256,
   "metadata": {},
   "outputs": [
    {
     "output_type": "execute_result",
     "data": {
      "text/plain": [
       "0.7"
      ]
     },
     "metadata": {},
     "execution_count": 256
    }
   ],
   "source": [
    "svc_model_all = SVC()\n",
    "svc_model_all.fit(x_train_all,y_train_all)\n",
    "accuracy_all_s=svc_model_all.score(x_test_all,y_test_all)\n",
    "accuracy_all_s"
   ]
  },
  {
   "cell_type": "code",
   "execution_count": 257,
   "metadata": {},
   "outputs": [
    {
     "output_type": "execute_result",
     "data": {
      "text/plain": [
       "0.9166666666666666"
      ]
     },
     "metadata": {},
     "execution_count": 257
    }
   ],
   "source": [
    "svc_model = SVC()\n",
    "svc_model.fit(x_train,y_train)\n",
    "accuracy_s=svc_model.score(x_test,y_test)\n",
    "accuracy_s"
   ]
  },
  {
   "cell_type": "code",
   "execution_count": 274,
   "metadata": {},
   "outputs": [],
   "source": [
    "##--------------------------------------K_Means Clustering--------------------------------------------------"
   ]
  },
  {
   "cell_type": "code",
   "execution_count": 270,
   "metadata": {},
   "outputs": [],
   "source": [
    "from sklearn.cluster import KMeans"
   ]
  },
  {
   "cell_type": "code",
   "execution_count": 332,
   "metadata": {},
   "outputs": [],
   "source": [
    "kmeans_model=KMeans(n_clusters=3)\n",
    "cluster_predict=kmeans_model.fit_predict(X)\n"
   ]
  },
  {
   "cell_type": "code",
   "execution_count": 333,
   "metadata": {},
   "outputs": [
    {
     "output_type": "execute_result",
     "data": {
      "text/plain": [
       "array([1, 1, 1, 1, 1, 1, 1, 1, 1, 1, 1, 1, 1, 1, 1, 1, 1, 1, 1, 1, 1, 1,\n",
       "       1, 1, 1, 1, 1, 1, 1, 1, 1, 1, 1, 1, 1, 1, 1, 1, 1, 1, 1, 1, 1, 1,\n",
       "       1, 1, 1, 1, 1, 1, 1, 1, 1, 1, 1, 1, 1, 1, 1, 1, 1, 1, 1, 1, 1, 1,\n",
       "       1, 1, 1, 1, 2, 2, 2, 2, 2, 2, 2, 2, 2, 2, 2, 2, 2, 2, 2, 2, 2, 2,\n",
       "       2, 2, 2, 2, 2, 2, 2, 2, 2, 2, 2, 2, 2, 2, 2, 2, 2, 2, 2, 2, 2, 2,\n",
       "       2, 2, 2, 2, 2, 2, 2, 2, 2, 2, 2, 2, 2, 2, 2, 2, 2, 2, 2, 2, 2, 2,\n",
       "       2, 2, 2, 2, 2, 2, 2, 2, 2, 2, 2, 2, 2, 2, 2, 2, 2, 2, 2, 2, 2, 2,\n",
       "       2, 2, 2, 2, 2, 2, 2, 2, 2, 2, 2, 2, 2, 2, 2, 2, 2, 2, 2, 2, 2, 2,\n",
       "       2, 2, 2, 2, 2, 2, 2, 0, 0, 0, 0, 0, 0, 0, 0, 0, 0, 0, 0, 0, 0, 0,\n",
       "       0, 0, 0, 0, 0, 0, 0, 0, 0, 0, 0, 0, 0, 0, 0, 0, 0, 0, 0, 0, 0, 0,\n",
       "       0, 0, 0, 0, 0, 0, 0, 0, 0, 0, 0, 0, 0, 0, 0, 0, 0, 0, 0, 0, 0, 0,\n",
       "       0, 0, 0, 0, 0, 0, 0, 0, 0, 0, 0, 0, 0, 0, 0, 0, 0, 0, 0, 0, 0, 0,\n",
       "       0, 0, 0, 0, 0, 0, 0, 0, 0, 0, 0, 0, 0, 0, 0, 0, 0, 0, 0, 0, 0, 0,\n",
       "       0, 0, 0, 0, 0, 0, 0, 0, 0, 0, 0, 0, 0])"
      ]
     },
     "metadata": {},
     "execution_count": 333
    }
   ],
   "source": [
    "cluster_predict"
   ]
  },
  {
   "cell_type": "code",
   "execution_count": 334,
   "metadata": {},
   "outputs": [
    {
     "output_type": "execute_result",
     "data": {
      "text/plain": [
       "array([1, 1, 1, 1, 1, 1, 1, 1, 1, 1, 1, 1, 1, 1, 0, 1, 1, 1, 1, 1, 0, 1,\n",
       "       1, 0, 1, 1, 1, 1, 1, 1, 1, 1, 1, 0, 1, 1, 1, 1, 0, 1, 1, 1, 1, 0,\n",
       "       1, 1, 1, 1, 1, 1, 1, 1, 1, 1, 1, 1, 0, 0, 1, 1, 1, 1, 0, 1, 0, 1,\n",
       "       1, 1, 1, 1, 0, 0, 1, 0, 1, 1, 0, 0, 0, 0, 0, 0, 1, 0, 1, 0, 0, 0,\n",
       "       0, 0, 0, 0, 0, 1, 0, 0, 0, 0, 0, 0, 0, 0, 0, 0, 0, 1, 0, 0, 0, 0,\n",
       "       1, 0, 0, 1, 0, 0, 0, 0, 0, 1, 0, 0, 0, 0, 1, 0, 1, 0, 0, 0, 0, 0,\n",
       "       0, 0, 0, 0, 0, 0, 0, 0, 1, 0, 0, 0, 1, 0, 0, 0, 1, 0, 1, 0, 0, 0,\n",
       "       0, 0, 0, 0, 0, 0, 0, 0, 0, 1, 1, 1, 0, 1, 0, 0, 0, 0, 0, 0, 0, 0,\n",
       "       0, 0, 0, 0, 0, 1, 1, 1, 1, 1, 1, 1, 0, 0, 0, 0, 0, 0, 1, 1, 0, 0,\n",
       "       0, 0, 0, 0, 0, 0, 0, 0, 0, 0, 0, 0, 0, 0, 0, 1, 0, 0, 0, 1, 0, 0,\n",
       "       1, 0, 0, 0, 0, 0, 0, 0, 0, 0, 1, 0, 0, 0, 0, 0, 0, 0, 0, 0, 0, 0,\n",
       "       0, 0, 0, 0, 1, 0, 0, 0, 0, 0, 0, 0, 0, 0, 0, 0, 0, 0, 0, 0, 1, 0,\n",
       "       0, 0, 1, 0, 0, 0, 0, 0, 0, 0, 0, 0, 0, 0, 0, 0, 0, 0, 0, 0, 0, 0,\n",
       "       0, 0, 0, 0, 0, 0, 0, 0, 0, 0, 0, 0, 0], dtype=int64)"
      ]
     },
     "metadata": {},
     "execution_count": 334
    }
   ],
   "source": [
    "data['DEATH_EVENT'].to_numpy()"
   ]
  },
  {
   "cell_type": "code",
   "execution_count": 335,
   "metadata": {},
   "outputs": [
    {
     "output_type": "execute_result",
     "data": {
      "text/plain": [
       "      age  anaemia  creatinine_phosphokinase  diabetes  ejection_fraction  \\\n",
       "0    75.0        0                       582         0                 20   \n",
       "1    55.0        0                      7861         0                 38   \n",
       "2    65.0        0                       146         0                 20   \n",
       "3    50.0        1                       111         0                 20   \n",
       "4    65.0        1                       160         1                 20   \n",
       "..    ...      ...                       ...       ...                ...   \n",
       "294  62.0        0                        61         1                 38   \n",
       "295  55.0        0                      1820         0                 38   \n",
       "296  45.0        0                      2060         1                 60   \n",
       "297  45.0        0                      2413         0                 38   \n",
       "298  50.0        0                       196         0                 45   \n",
       "\n",
       "     high_blood_pressure  platelets  serum_creatinine  serum_sodium  sex  \\\n",
       "0                      1  265000.00               1.9           130    1   \n",
       "1                      0  263358.03               1.1           136    1   \n",
       "2                      0  162000.00               1.3           129    1   \n",
       "3                      0  210000.00               1.9           137    1   \n",
       "4                      0  327000.00               2.7           116    0   \n",
       "..                   ...        ...               ...           ...  ...   \n",
       "294                    1  155000.00               1.1           143    1   \n",
       "295                    0  270000.00               1.2           139    0   \n",
       "296                    0  742000.00               0.8           138    0   \n",
       "297                    0  140000.00               1.4           140    1   \n",
       "298                    0  395000.00               1.6           136    1   \n",
       "\n",
       "     smoking  time  DEATH_EVENT  cluster  \n",
       "0          0     4            1        1  \n",
       "1          0     6            1        1  \n",
       "2          1     7            1        1  \n",
       "3          0     7            1        1  \n",
       "4          0     8            1        1  \n",
       "..       ...   ...          ...      ...  \n",
       "294        1   270            0        0  \n",
       "295        0   271            0        0  \n",
       "296        0   278            0        0  \n",
       "297        1   280            0        0  \n",
       "298        1   285            0        0  \n",
       "\n",
       "[299 rows x 14 columns]"
      ],
      "text/html": "<div>\n<style scoped>\n    .dataframe tbody tr th:only-of-type {\n        vertical-align: middle;\n    }\n\n    .dataframe tbody tr th {\n        vertical-align: top;\n    }\n\n    .dataframe thead th {\n        text-align: right;\n    }\n</style>\n<table border=\"1\" class=\"dataframe\">\n  <thead>\n    <tr style=\"text-align: right;\">\n      <th></th>\n      <th>age</th>\n      <th>anaemia</th>\n      <th>creatinine_phosphokinase</th>\n      <th>diabetes</th>\n      <th>ejection_fraction</th>\n      <th>high_blood_pressure</th>\n      <th>platelets</th>\n      <th>serum_creatinine</th>\n      <th>serum_sodium</th>\n      <th>sex</th>\n      <th>smoking</th>\n      <th>time</th>\n      <th>DEATH_EVENT</th>\n      <th>cluster</th>\n    </tr>\n  </thead>\n  <tbody>\n    <tr>\n      <th>0</th>\n      <td>75.0</td>\n      <td>0</td>\n      <td>582</td>\n      <td>0</td>\n      <td>20</td>\n      <td>1</td>\n      <td>265000.00</td>\n      <td>1.9</td>\n      <td>130</td>\n      <td>1</td>\n      <td>0</td>\n      <td>4</td>\n      <td>1</td>\n      <td>1</td>\n    </tr>\n    <tr>\n      <th>1</th>\n      <td>55.0</td>\n      <td>0</td>\n      <td>7861</td>\n      <td>0</td>\n      <td>38</td>\n      <td>0</td>\n      <td>263358.03</td>\n      <td>1.1</td>\n      <td>136</td>\n      <td>1</td>\n      <td>0</td>\n      <td>6</td>\n      <td>1</td>\n      <td>1</td>\n    </tr>\n    <tr>\n      <th>2</th>\n      <td>65.0</td>\n      <td>0</td>\n      <td>146</td>\n      <td>0</td>\n      <td>20</td>\n      <td>0</td>\n      <td>162000.00</td>\n      <td>1.3</td>\n      <td>129</td>\n      <td>1</td>\n      <td>1</td>\n      <td>7</td>\n      <td>1</td>\n      <td>1</td>\n    </tr>\n    <tr>\n      <th>3</th>\n      <td>50.0</td>\n      <td>1</td>\n      <td>111</td>\n      <td>0</td>\n      <td>20</td>\n      <td>0</td>\n      <td>210000.00</td>\n      <td>1.9</td>\n      <td>137</td>\n      <td>1</td>\n      <td>0</td>\n      <td>7</td>\n      <td>1</td>\n      <td>1</td>\n    </tr>\n    <tr>\n      <th>4</th>\n      <td>65.0</td>\n      <td>1</td>\n      <td>160</td>\n      <td>1</td>\n      <td>20</td>\n      <td>0</td>\n      <td>327000.00</td>\n      <td>2.7</td>\n      <td>116</td>\n      <td>0</td>\n      <td>0</td>\n      <td>8</td>\n      <td>1</td>\n      <td>1</td>\n    </tr>\n    <tr>\n      <th>...</th>\n      <td>...</td>\n      <td>...</td>\n      <td>...</td>\n      <td>...</td>\n      <td>...</td>\n      <td>...</td>\n      <td>...</td>\n      <td>...</td>\n      <td>...</td>\n      <td>...</td>\n      <td>...</td>\n      <td>...</td>\n      <td>...</td>\n      <td>...</td>\n    </tr>\n    <tr>\n      <th>294</th>\n      <td>62.0</td>\n      <td>0</td>\n      <td>61</td>\n      <td>1</td>\n      <td>38</td>\n      <td>1</td>\n      <td>155000.00</td>\n      <td>1.1</td>\n      <td>143</td>\n      <td>1</td>\n      <td>1</td>\n      <td>270</td>\n      <td>0</td>\n      <td>0</td>\n    </tr>\n    <tr>\n      <th>295</th>\n      <td>55.0</td>\n      <td>0</td>\n      <td>1820</td>\n      <td>0</td>\n      <td>38</td>\n      <td>0</td>\n      <td>270000.00</td>\n      <td>1.2</td>\n      <td>139</td>\n      <td>0</td>\n      <td>0</td>\n      <td>271</td>\n      <td>0</td>\n      <td>0</td>\n    </tr>\n    <tr>\n      <th>296</th>\n      <td>45.0</td>\n      <td>0</td>\n      <td>2060</td>\n      <td>1</td>\n      <td>60</td>\n      <td>0</td>\n      <td>742000.00</td>\n      <td>0.8</td>\n      <td>138</td>\n      <td>0</td>\n      <td>0</td>\n      <td>278</td>\n      <td>0</td>\n      <td>0</td>\n    </tr>\n    <tr>\n      <th>297</th>\n      <td>45.0</td>\n      <td>0</td>\n      <td>2413</td>\n      <td>0</td>\n      <td>38</td>\n      <td>0</td>\n      <td>140000.00</td>\n      <td>1.4</td>\n      <td>140</td>\n      <td>1</td>\n      <td>1</td>\n      <td>280</td>\n      <td>0</td>\n      <td>0</td>\n    </tr>\n    <tr>\n      <th>298</th>\n      <td>50.0</td>\n      <td>0</td>\n      <td>196</td>\n      <td>0</td>\n      <td>45</td>\n      <td>0</td>\n      <td>395000.00</td>\n      <td>1.6</td>\n      <td>136</td>\n      <td>1</td>\n      <td>1</td>\n      <td>285</td>\n      <td>0</td>\n      <td>0</td>\n    </tr>\n  </tbody>\n</table>\n<p>299 rows × 14 columns</p>\n</div>"
     },
     "metadata": {},
     "execution_count": 335
    }
   ],
   "source": [
    "data.drop(columns='cluster',inplace=True)\n",
    "data.insert(13,'cluster',cluster_predict)\n",
    "data"
   ]
  },
  {
   "cell_type": "code",
   "execution_count": 336,
   "metadata": {},
   "outputs": [],
   "source": [
    "cluster_0=data.loc[data['cluster']==0]\n",
    "cluster_1=data.loc[data['cluster']==1]\n",
    "cluster_2=data.loc[data['cluster']==2]"
   ]
  },
  {
   "cell_type": "code",
   "execution_count": 337,
   "metadata": {},
   "outputs": [
    {
     "output_type": "execute_result",
     "data": {
      "text/plain": [
       "        age  anaemia  creatinine_phosphokinase  diabetes  ejection_fraction  \\\n",
       "183  75.000        0                        99         0                 38   \n",
       "184  58.000        1                       145         0                 25   \n",
       "185  60.667        1                       104         1                 30   \n",
       "186  50.000        0                       582         0                 50   \n",
       "187  60.000        0                      1896         1                 25   \n",
       "..      ...      ...                       ...       ...                ...   \n",
       "294  62.000        0                        61         1                 38   \n",
       "295  55.000        0                      1820         0                 38   \n",
       "296  45.000        0                      2060         1                 60   \n",
       "297  45.000        0                      2413         0                 38   \n",
       "298  50.000        0                       196         0                 45   \n",
       "\n",
       "     high_blood_pressure  platelets  serum_creatinine  serum_sodium  sex  \\\n",
       "183                    1   224000.0               2.5           134    1   \n",
       "184                    0   219000.0               1.2           137    1   \n",
       "185                    0   389000.0               1.5           136    1   \n",
       "186                    0   153000.0               0.6           134    0   \n",
       "187                    0   365000.0               2.1           144    0   \n",
       "..                   ...        ...               ...           ...  ...   \n",
       "294                    1   155000.0               1.1           143    1   \n",
       "295                    0   270000.0               1.2           139    0   \n",
       "296                    0   742000.0               0.8           138    0   \n",
       "297                    0   140000.0               1.4           140    1   \n",
       "298                    0   395000.0               1.6           136    1   \n",
       "\n",
       "     smoking  time  DEATH_EVENT  cluster  \n",
       "183        0   162            1        0  \n",
       "184        1   170            1        0  \n",
       "185        0   171            1        0  \n",
       "186        0   172            1        0  \n",
       "187        0   172            1        0  \n",
       "..       ...   ...          ...      ...  \n",
       "294        1   270            0        0  \n",
       "295        0   271            0        0  \n",
       "296        0   278            0        0  \n",
       "297        1   280            0        0  \n",
       "298        1   285            0        0  \n",
       "\n",
       "[116 rows x 14 columns]"
      ],
      "text/html": "<div>\n<style scoped>\n    .dataframe tbody tr th:only-of-type {\n        vertical-align: middle;\n    }\n\n    .dataframe tbody tr th {\n        vertical-align: top;\n    }\n\n    .dataframe thead th {\n        text-align: right;\n    }\n</style>\n<table border=\"1\" class=\"dataframe\">\n  <thead>\n    <tr style=\"text-align: right;\">\n      <th></th>\n      <th>age</th>\n      <th>anaemia</th>\n      <th>creatinine_phosphokinase</th>\n      <th>diabetes</th>\n      <th>ejection_fraction</th>\n      <th>high_blood_pressure</th>\n      <th>platelets</th>\n      <th>serum_creatinine</th>\n      <th>serum_sodium</th>\n      <th>sex</th>\n      <th>smoking</th>\n      <th>time</th>\n      <th>DEATH_EVENT</th>\n      <th>cluster</th>\n    </tr>\n  </thead>\n  <tbody>\n    <tr>\n      <th>183</th>\n      <td>75.000</td>\n      <td>0</td>\n      <td>99</td>\n      <td>0</td>\n      <td>38</td>\n      <td>1</td>\n      <td>224000.0</td>\n      <td>2.5</td>\n      <td>134</td>\n      <td>1</td>\n      <td>0</td>\n      <td>162</td>\n      <td>1</td>\n      <td>0</td>\n    </tr>\n    <tr>\n      <th>184</th>\n      <td>58.000</td>\n      <td>1</td>\n      <td>145</td>\n      <td>0</td>\n      <td>25</td>\n      <td>0</td>\n      <td>219000.0</td>\n      <td>1.2</td>\n      <td>137</td>\n      <td>1</td>\n      <td>1</td>\n      <td>170</td>\n      <td>1</td>\n      <td>0</td>\n    </tr>\n    <tr>\n      <th>185</th>\n      <td>60.667</td>\n      <td>1</td>\n      <td>104</td>\n      <td>1</td>\n      <td>30</td>\n      <td>0</td>\n      <td>389000.0</td>\n      <td>1.5</td>\n      <td>136</td>\n      <td>1</td>\n      <td>0</td>\n      <td>171</td>\n      <td>1</td>\n      <td>0</td>\n    </tr>\n    <tr>\n      <th>186</th>\n      <td>50.000</td>\n      <td>0</td>\n      <td>582</td>\n      <td>0</td>\n      <td>50</td>\n      <td>0</td>\n      <td>153000.0</td>\n      <td>0.6</td>\n      <td>134</td>\n      <td>0</td>\n      <td>0</td>\n      <td>172</td>\n      <td>1</td>\n      <td>0</td>\n    </tr>\n    <tr>\n      <th>187</th>\n      <td>60.000</td>\n      <td>0</td>\n      <td>1896</td>\n      <td>1</td>\n      <td>25</td>\n      <td>0</td>\n      <td>365000.0</td>\n      <td>2.1</td>\n      <td>144</td>\n      <td>0</td>\n      <td>0</td>\n      <td>172</td>\n      <td>1</td>\n      <td>0</td>\n    </tr>\n    <tr>\n      <th>...</th>\n      <td>...</td>\n      <td>...</td>\n      <td>...</td>\n      <td>...</td>\n      <td>...</td>\n      <td>...</td>\n      <td>...</td>\n      <td>...</td>\n      <td>...</td>\n      <td>...</td>\n      <td>...</td>\n      <td>...</td>\n      <td>...</td>\n      <td>...</td>\n    </tr>\n    <tr>\n      <th>294</th>\n      <td>62.000</td>\n      <td>0</td>\n      <td>61</td>\n      <td>1</td>\n      <td>38</td>\n      <td>1</td>\n      <td>155000.0</td>\n      <td>1.1</td>\n      <td>143</td>\n      <td>1</td>\n      <td>1</td>\n      <td>270</td>\n      <td>0</td>\n      <td>0</td>\n    </tr>\n    <tr>\n      <th>295</th>\n      <td>55.000</td>\n      <td>0</td>\n      <td>1820</td>\n      <td>0</td>\n      <td>38</td>\n      <td>0</td>\n      <td>270000.0</td>\n      <td>1.2</td>\n      <td>139</td>\n      <td>0</td>\n      <td>0</td>\n      <td>271</td>\n      <td>0</td>\n      <td>0</td>\n    </tr>\n    <tr>\n      <th>296</th>\n      <td>45.000</td>\n      <td>0</td>\n      <td>2060</td>\n      <td>1</td>\n      <td>60</td>\n      <td>0</td>\n      <td>742000.0</td>\n      <td>0.8</td>\n      <td>138</td>\n      <td>0</td>\n      <td>0</td>\n      <td>278</td>\n      <td>0</td>\n      <td>0</td>\n    </tr>\n    <tr>\n      <th>297</th>\n      <td>45.000</td>\n      <td>0</td>\n      <td>2413</td>\n      <td>0</td>\n      <td>38</td>\n      <td>0</td>\n      <td>140000.0</td>\n      <td>1.4</td>\n      <td>140</td>\n      <td>1</td>\n      <td>1</td>\n      <td>280</td>\n      <td>0</td>\n      <td>0</td>\n    </tr>\n    <tr>\n      <th>298</th>\n      <td>50.000</td>\n      <td>0</td>\n      <td>196</td>\n      <td>0</td>\n      <td>45</td>\n      <td>0</td>\n      <td>395000.0</td>\n      <td>1.6</td>\n      <td>136</td>\n      <td>1</td>\n      <td>1</td>\n      <td>285</td>\n      <td>0</td>\n      <td>0</td>\n    </tr>\n  </tbody>\n</table>\n<p>116 rows × 14 columns</p>\n</div>"
     },
     "metadata": {},
     "execution_count": 337
    }
   ],
   "source": [
    "cluster_0"
   ]
  },
  {
   "cell_type": "code",
   "execution_count": 338,
   "metadata": {},
   "outputs": [
    {
     "output_type": "execute_result",
     "data": {
      "text/plain": [
       "     age  anaemia  creatinine_phosphokinase  diabetes  ejection_fraction  \\\n",
       "0   75.0        0                       582         0                 20   \n",
       "1   55.0        0                      7861         0                 38   \n",
       "2   65.0        0                       146         0                 20   \n",
       "3   50.0        1                       111         0                 20   \n",
       "4   65.0        1                       160         1                 20   \n",
       "..   ...      ...                       ...       ...                ...   \n",
       "65  60.0        0                        68         0                 20   \n",
       "66  42.0        1                       250         1                 15   \n",
       "67  72.0        1                       110         0                 25   \n",
       "68  70.0        0                       161         0                 25   \n",
       "69  65.0        0                       113         1                 25   \n",
       "\n",
       "    high_blood_pressure  platelets  serum_creatinine  serum_sodium  sex  \\\n",
       "0                     1  265000.00              1.90           130    1   \n",
       "1                     0  263358.03              1.10           136    1   \n",
       "2                     0  162000.00              1.30           129    1   \n",
       "3                     0  210000.00              1.90           137    1   \n",
       "4                     0  327000.00              2.70           116    0   \n",
       "..                  ...        ...               ...           ...  ...   \n",
       "65                    0  119000.00              2.90           127    1   \n",
       "66                    0  213000.00              1.30           136    0   \n",
       "67                    0  274000.00              1.00           140    1   \n",
       "68                    0  244000.00              1.20           142    0   \n",
       "69                    0  497000.00              1.83           135    1   \n",
       "\n",
       "    smoking  time  DEATH_EVENT  cluster  \n",
       "0         0     4            1        1  \n",
       "1         0     6            1        1  \n",
       "2         1     7            1        1  \n",
       "3         0     7            1        1  \n",
       "4         0     8            1        1  \n",
       "..      ...   ...          ...      ...  \n",
       "65        1    64            1        1  \n",
       "66        0    65            1        1  \n",
       "67        1    65            1        1  \n",
       "68        0    66            1        1  \n",
       "69        0    67            1        1  \n",
       "\n",
       "[70 rows x 14 columns]"
      ],
      "text/html": "<div>\n<style scoped>\n    .dataframe tbody tr th:only-of-type {\n        vertical-align: middle;\n    }\n\n    .dataframe tbody tr th {\n        vertical-align: top;\n    }\n\n    .dataframe thead th {\n        text-align: right;\n    }\n</style>\n<table border=\"1\" class=\"dataframe\">\n  <thead>\n    <tr style=\"text-align: right;\">\n      <th></th>\n      <th>age</th>\n      <th>anaemia</th>\n      <th>creatinine_phosphokinase</th>\n      <th>diabetes</th>\n      <th>ejection_fraction</th>\n      <th>high_blood_pressure</th>\n      <th>platelets</th>\n      <th>serum_creatinine</th>\n      <th>serum_sodium</th>\n      <th>sex</th>\n      <th>smoking</th>\n      <th>time</th>\n      <th>DEATH_EVENT</th>\n      <th>cluster</th>\n    </tr>\n  </thead>\n  <tbody>\n    <tr>\n      <th>0</th>\n      <td>75.0</td>\n      <td>0</td>\n      <td>582</td>\n      <td>0</td>\n      <td>20</td>\n      <td>1</td>\n      <td>265000.00</td>\n      <td>1.90</td>\n      <td>130</td>\n      <td>1</td>\n      <td>0</td>\n      <td>4</td>\n      <td>1</td>\n      <td>1</td>\n    </tr>\n    <tr>\n      <th>1</th>\n      <td>55.0</td>\n      <td>0</td>\n      <td>7861</td>\n      <td>0</td>\n      <td>38</td>\n      <td>0</td>\n      <td>263358.03</td>\n      <td>1.10</td>\n      <td>136</td>\n      <td>1</td>\n      <td>0</td>\n      <td>6</td>\n      <td>1</td>\n      <td>1</td>\n    </tr>\n    <tr>\n      <th>2</th>\n      <td>65.0</td>\n      <td>0</td>\n      <td>146</td>\n      <td>0</td>\n      <td>20</td>\n      <td>0</td>\n      <td>162000.00</td>\n      <td>1.30</td>\n      <td>129</td>\n      <td>1</td>\n      <td>1</td>\n      <td>7</td>\n      <td>1</td>\n      <td>1</td>\n    </tr>\n    <tr>\n      <th>3</th>\n      <td>50.0</td>\n      <td>1</td>\n      <td>111</td>\n      <td>0</td>\n      <td>20</td>\n      <td>0</td>\n      <td>210000.00</td>\n      <td>1.90</td>\n      <td>137</td>\n      <td>1</td>\n      <td>0</td>\n      <td>7</td>\n      <td>1</td>\n      <td>1</td>\n    </tr>\n    <tr>\n      <th>4</th>\n      <td>65.0</td>\n      <td>1</td>\n      <td>160</td>\n      <td>1</td>\n      <td>20</td>\n      <td>0</td>\n      <td>327000.00</td>\n      <td>2.70</td>\n      <td>116</td>\n      <td>0</td>\n      <td>0</td>\n      <td>8</td>\n      <td>1</td>\n      <td>1</td>\n    </tr>\n    <tr>\n      <th>...</th>\n      <td>...</td>\n      <td>...</td>\n      <td>...</td>\n      <td>...</td>\n      <td>...</td>\n      <td>...</td>\n      <td>...</td>\n      <td>...</td>\n      <td>...</td>\n      <td>...</td>\n      <td>...</td>\n      <td>...</td>\n      <td>...</td>\n      <td>...</td>\n    </tr>\n    <tr>\n      <th>65</th>\n      <td>60.0</td>\n      <td>0</td>\n      <td>68</td>\n      <td>0</td>\n      <td>20</td>\n      <td>0</td>\n      <td>119000.00</td>\n      <td>2.90</td>\n      <td>127</td>\n      <td>1</td>\n      <td>1</td>\n      <td>64</td>\n      <td>1</td>\n      <td>1</td>\n    </tr>\n    <tr>\n      <th>66</th>\n      <td>42.0</td>\n      <td>1</td>\n      <td>250</td>\n      <td>1</td>\n      <td>15</td>\n      <td>0</td>\n      <td>213000.00</td>\n      <td>1.30</td>\n      <td>136</td>\n      <td>0</td>\n      <td>0</td>\n      <td>65</td>\n      <td>1</td>\n      <td>1</td>\n    </tr>\n    <tr>\n      <th>67</th>\n      <td>72.0</td>\n      <td>1</td>\n      <td>110</td>\n      <td>0</td>\n      <td>25</td>\n      <td>0</td>\n      <td>274000.00</td>\n      <td>1.00</td>\n      <td>140</td>\n      <td>1</td>\n      <td>1</td>\n      <td>65</td>\n      <td>1</td>\n      <td>1</td>\n    </tr>\n    <tr>\n      <th>68</th>\n      <td>70.0</td>\n      <td>0</td>\n      <td>161</td>\n      <td>0</td>\n      <td>25</td>\n      <td>0</td>\n      <td>244000.00</td>\n      <td>1.20</td>\n      <td>142</td>\n      <td>0</td>\n      <td>0</td>\n      <td>66</td>\n      <td>1</td>\n      <td>1</td>\n    </tr>\n    <tr>\n      <th>69</th>\n      <td>65.0</td>\n      <td>0</td>\n      <td>113</td>\n      <td>1</td>\n      <td>25</td>\n      <td>0</td>\n      <td>497000.00</td>\n      <td>1.83</td>\n      <td>135</td>\n      <td>1</td>\n      <td>0</td>\n      <td>67</td>\n      <td>1</td>\n      <td>1</td>\n    </tr>\n  </tbody>\n</table>\n<p>70 rows × 14 columns</p>\n</div>"
     },
     "metadata": {},
     "execution_count": 338
    }
   ],
   "source": [
    "cluster_1"
   ]
  },
  {
   "cell_type": "code",
   "execution_count": 339,
   "metadata": {},
   "outputs": [
    {
     "output_type": "execute_result",
     "data": {
      "text/plain": [
       "      age  anaemia  creatinine_phosphokinase  diabetes  ejection_fraction  \\\n",
       "70   41.0        0                       148         0                 40   \n",
       "71   58.0        0                       582         1                 35   \n",
       "72   85.0        0                      5882         0                 35   \n",
       "73   65.0        0                       224         1                 50   \n",
       "74   69.0        0                       582         0                 20   \n",
       "..    ...      ...                       ...       ...                ...   \n",
       "178  63.0        1                       122         1                 60   \n",
       "179  55.0        0                       835         0                 40   \n",
       "180  40.0        0                       478         1                 30   \n",
       "181  59.0        1                       176         1                 25   \n",
       "182  65.0        0                       395         1                 25   \n",
       "\n",
       "     high_blood_pressure  platelets  serum_creatinine  serum_sodium  sex  \\\n",
       "70                     0   374000.0               0.8           140    1   \n",
       "71                     0   122000.0               0.9           139    1   \n",
       "72                     0   243000.0               1.0           132    1   \n",
       "73                     0   149000.0               1.3           137    1   \n",
       "74                     0   266000.0               1.2           134    1   \n",
       "..                   ...        ...               ...           ...  ...   \n",
       "178                    0   267000.0               1.2           145    1   \n",
       "179                    0   279000.0               0.7           140    1   \n",
       "180                    0   303000.0               0.9           136    1   \n",
       "181                    0   221000.0               1.0           136    1   \n",
       "182                    0   265000.0               1.2           136    1   \n",
       "\n",
       "     smoking  time  DEATH_EVENT  cluster  \n",
       "70         1    68            0        2  \n",
       "71         1    71            0        2  \n",
       "72         1    72            1        2  \n",
       "73         1    72            0        2  \n",
       "74         1    73            1        2  \n",
       "..       ...   ...          ...      ...  \n",
       "178        0   147            0        2  \n",
       "179        1   147            0        2  \n",
       "180        0   148            0        2  \n",
       "181        1   150            1        2  \n",
       "182        1   154            1        2  \n",
       "\n",
       "[113 rows x 14 columns]"
      ],
      "text/html": "<div>\n<style scoped>\n    .dataframe tbody tr th:only-of-type {\n        vertical-align: middle;\n    }\n\n    .dataframe tbody tr th {\n        vertical-align: top;\n    }\n\n    .dataframe thead th {\n        text-align: right;\n    }\n</style>\n<table border=\"1\" class=\"dataframe\">\n  <thead>\n    <tr style=\"text-align: right;\">\n      <th></th>\n      <th>age</th>\n      <th>anaemia</th>\n      <th>creatinine_phosphokinase</th>\n      <th>diabetes</th>\n      <th>ejection_fraction</th>\n      <th>high_blood_pressure</th>\n      <th>platelets</th>\n      <th>serum_creatinine</th>\n      <th>serum_sodium</th>\n      <th>sex</th>\n      <th>smoking</th>\n      <th>time</th>\n      <th>DEATH_EVENT</th>\n      <th>cluster</th>\n    </tr>\n  </thead>\n  <tbody>\n    <tr>\n      <th>70</th>\n      <td>41.0</td>\n      <td>0</td>\n      <td>148</td>\n      <td>0</td>\n      <td>40</td>\n      <td>0</td>\n      <td>374000.0</td>\n      <td>0.8</td>\n      <td>140</td>\n      <td>1</td>\n      <td>1</td>\n      <td>68</td>\n      <td>0</td>\n      <td>2</td>\n    </tr>\n    <tr>\n      <th>71</th>\n      <td>58.0</td>\n      <td>0</td>\n      <td>582</td>\n      <td>1</td>\n      <td>35</td>\n      <td>0</td>\n      <td>122000.0</td>\n      <td>0.9</td>\n      <td>139</td>\n      <td>1</td>\n      <td>1</td>\n      <td>71</td>\n      <td>0</td>\n      <td>2</td>\n    </tr>\n    <tr>\n      <th>72</th>\n      <td>85.0</td>\n      <td>0</td>\n      <td>5882</td>\n      <td>0</td>\n      <td>35</td>\n      <td>0</td>\n      <td>243000.0</td>\n      <td>1.0</td>\n      <td>132</td>\n      <td>1</td>\n      <td>1</td>\n      <td>72</td>\n      <td>1</td>\n      <td>2</td>\n    </tr>\n    <tr>\n      <th>73</th>\n      <td>65.0</td>\n      <td>0</td>\n      <td>224</td>\n      <td>1</td>\n      <td>50</td>\n      <td>0</td>\n      <td>149000.0</td>\n      <td>1.3</td>\n      <td>137</td>\n      <td>1</td>\n      <td>1</td>\n      <td>72</td>\n      <td>0</td>\n      <td>2</td>\n    </tr>\n    <tr>\n      <th>74</th>\n      <td>69.0</td>\n      <td>0</td>\n      <td>582</td>\n      <td>0</td>\n      <td>20</td>\n      <td>0</td>\n      <td>266000.0</td>\n      <td>1.2</td>\n      <td>134</td>\n      <td>1</td>\n      <td>1</td>\n      <td>73</td>\n      <td>1</td>\n      <td>2</td>\n    </tr>\n    <tr>\n      <th>...</th>\n      <td>...</td>\n      <td>...</td>\n      <td>...</td>\n      <td>...</td>\n      <td>...</td>\n      <td>...</td>\n      <td>...</td>\n      <td>...</td>\n      <td>...</td>\n      <td>...</td>\n      <td>...</td>\n      <td>...</td>\n      <td>...</td>\n      <td>...</td>\n    </tr>\n    <tr>\n      <th>178</th>\n      <td>63.0</td>\n      <td>1</td>\n      <td>122</td>\n      <td>1</td>\n      <td>60</td>\n      <td>0</td>\n      <td>267000.0</td>\n      <td>1.2</td>\n      <td>145</td>\n      <td>1</td>\n      <td>0</td>\n      <td>147</td>\n      <td>0</td>\n      <td>2</td>\n    </tr>\n    <tr>\n      <th>179</th>\n      <td>55.0</td>\n      <td>0</td>\n      <td>835</td>\n      <td>0</td>\n      <td>40</td>\n      <td>0</td>\n      <td>279000.0</td>\n      <td>0.7</td>\n      <td>140</td>\n      <td>1</td>\n      <td>1</td>\n      <td>147</td>\n      <td>0</td>\n      <td>2</td>\n    </tr>\n    <tr>\n      <th>180</th>\n      <td>40.0</td>\n      <td>0</td>\n      <td>478</td>\n      <td>1</td>\n      <td>30</td>\n      <td>0</td>\n      <td>303000.0</td>\n      <td>0.9</td>\n      <td>136</td>\n      <td>1</td>\n      <td>0</td>\n      <td>148</td>\n      <td>0</td>\n      <td>2</td>\n    </tr>\n    <tr>\n      <th>181</th>\n      <td>59.0</td>\n      <td>1</td>\n      <td>176</td>\n      <td>1</td>\n      <td>25</td>\n      <td>0</td>\n      <td>221000.0</td>\n      <td>1.0</td>\n      <td>136</td>\n      <td>1</td>\n      <td>1</td>\n      <td>150</td>\n      <td>1</td>\n      <td>2</td>\n    </tr>\n    <tr>\n      <th>182</th>\n      <td>65.0</td>\n      <td>0</td>\n      <td>395</td>\n      <td>1</td>\n      <td>25</td>\n      <td>0</td>\n      <td>265000.0</td>\n      <td>1.2</td>\n      <td>136</td>\n      <td>1</td>\n      <td>1</td>\n      <td>154</td>\n      <td>1</td>\n      <td>2</td>\n    </tr>\n  </tbody>\n</table>\n<p>113 rows × 14 columns</p>\n</div>"
     },
     "metadata": {},
     "execution_count": 339
    }
   ],
   "source": [
    "cluster_2"
   ]
  },
  {
   "cell_type": "code",
   "execution_count": 340,
   "metadata": {},
   "outputs": [],
   "source": [
    "cluster_0_deaths=cluster_0.groupby('DEATH_EVENT').count()['cluster']\n",
    "cluster_1_deaths=cluster_1.groupby('DEATH_EVENT').count()['cluster']\n",
    "cluster_2_deaths=cluster_2.groupby('DEATH_EVENT').count()['cluster']"
   ]
  },
  {
   "cell_type": "code",
   "execution_count": 341,
   "metadata": {},
   "outputs": [
    {
     "output_type": "execute_result",
     "data": {
      "text/plain": [
       "DEATH_EVENT    0   1\n",
       "cluster 0    102  14\n",
       "cluster 1     10  60\n",
       "cluster 2     91  22"
      ],
      "text/html": "<div>\n<style scoped>\n    .dataframe tbody tr th:only-of-type {\n        vertical-align: middle;\n    }\n\n    .dataframe tbody tr th {\n        vertical-align: top;\n    }\n\n    .dataframe thead th {\n        text-align: right;\n    }\n</style>\n<table border=\"1\" class=\"dataframe\">\n  <thead>\n    <tr style=\"text-align: right;\">\n      <th>DEATH_EVENT</th>\n      <th>0</th>\n      <th>1</th>\n    </tr>\n  </thead>\n  <tbody>\n    <tr>\n      <th>cluster 0</th>\n      <td>102</td>\n      <td>14</td>\n    </tr>\n    <tr>\n      <th>cluster 1</th>\n      <td>10</td>\n      <td>60</td>\n    </tr>\n    <tr>\n      <th>cluster 2</th>\n      <td>91</td>\n      <td>22</td>\n    </tr>\n  </tbody>\n</table>\n</div>"
     },
     "metadata": {},
     "execution_count": 341
    }
   ],
   "source": [
    "pd.DataFrame(data=[cluster_0_deaths,cluster_1_deaths,cluster_2_deaths],index=['cluster 0','cluster 1','cluster 2'])"
   ]
  }
 ]
}